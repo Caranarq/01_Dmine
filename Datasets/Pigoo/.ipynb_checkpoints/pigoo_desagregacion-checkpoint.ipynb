{
 "cells": [
  {
   "cell_type": "markdown",
   "metadata": {
    "collapsed": true
   },
   "source": [
    "# AGREGACION DE DATOS DESDE EL DATASET DEL PROGRAMA DE INDICADORES DE GESTIÓN DE ORGANISMOS OPERADORES (PIGOO)\n",
    "En este documento se describen las consideraciones que se tomaron para la agregación de datos desde este dataset para su uso en la PCCS."
   ]
  },
  {
   "cell_type": "code",
   "execution_count": 2,
   "metadata": {},
   "outputs": [],
   "source": [
    "# Librerias utilizadas\n",
    "import pandas as pd\n",
    "import sys\n",
    "module_path = r'D:\\PCCS\\01_Dmine\\Scripts'\n",
    "if module_path not in sys.path:\n",
    "    sys.path.append(module_path)\n",
    "from SUN.asignar_sun import asignar_sun\n",
    "from SUN_integridad.SUN_integridad import SUN_integridad\n",
    "from SUN.CargaSunPrincipal import getsun"
   ]
  },
  {
   "cell_type": "code",
   "execution_count": 5,
   "metadata": {
    "scrolled": false
   },
   "outputs": [
    {
     "name": "stdout",
     "output_type": "stream",
     "text": [
      "Python 3.6.1 |Anaconda 4.4.0 (64-bit)| (default, May 11 2017, 13:25:24) [MSC v.1900 64 bit (AMD64)] on win32\n",
      "Pandas version: 0.20.1\n",
      "Running on Windows 8.1\n"
     ]
    }
   ],
   "source": [
    "# Configuracion del sistema\n",
    "import sys; print('Python {} on {}'.format(sys.version, sys.platform))\n",
    "print('Pandas version: {}'.format(pd.__version__))\n",
    "import platform; print('Running on {} {}'.format(platform.system(), platform.release()))"
   ]
  },
  {
   "cell_type": "markdown",
   "metadata": {},
   "source": []
  },
  {
   "cell_type": "markdown",
   "metadata": {},
   "source": [
    "## 1. Revisión y estandarización inicial al DataSet Pigoo"
   ]
  },
  {
   "cell_type": "markdown",
   "metadata": {},
   "source": [
    "El 2 de octubre de 2017 se realizó por medio de correo electrónico, una solicitud de aclaracion al PIGOO del nivel de desagregación de los datos disponibles en su página (Ver archivo Aclaracion_desagregacion.pdf).\n",
    "\n",
    "En respuesta a esta solicitud, el PIGOO proporcionó un archivo de excel (**CiudadesPIGOO_ClaveInegi.xlsx**) que incluye una clasificación de las ciudades del dataset PIGOO por clave geoestadística"
   ]
  },
  {
   "cell_type": "code",
   "execution_count": 5,
   "metadata": {
    "scrolled": true
   },
   "outputs": [
    {
     "data": {
      "text/html": [
       "<div>\n",
       "<style>\n",
       "    .dataframe thead tr:only-child th {\n",
       "        text-align: right;\n",
       "    }\n",
       "\n",
       "    .dataframe thead th {\n",
       "        text-align: left;\n",
       "    }\n",
       "\n",
       "    .dataframe tbody tr th {\n",
       "        vertical-align: top;\n",
       "    }\n",
       "</style>\n",
       "<table border=\"1\" class=\"dataframe\">\n",
       "  <thead>\n",
       "    <tr style=\"text-align: right;\">\n",
       "      <th></th>\n",
       "      <th>Nombre- PIGOO</th>\n",
       "      <th>Organismo Operador</th>\n",
       "      <th>Siglas</th>\n",
       "      <th>Estado</th>\n",
       "      <th>Municipio-Inegi</th>\n",
       "      <th>Loc-Inegi</th>\n",
       "      <th>Clave-Estado-Inegi</th>\n",
       "      <th>Clave-Municipio-Inegi</th>\n",
       "      <th>Clave-Localidad-Inegi</th>\n",
       "    </tr>\n",
       "    <tr>\n",
       "      <th>N°</th>\n",
       "      <th></th>\n",
       "      <th></th>\n",
       "      <th></th>\n",
       "      <th></th>\n",
       "      <th></th>\n",
       "      <th></th>\n",
       "      <th></th>\n",
       "      <th></th>\n",
       "      <th></th>\n",
       "    </tr>\n",
       "  </thead>\n",
       "  <tbody>\n",
       "    <tr>\n",
       "      <th>1</th>\n",
       "      <td>Aguascalientes</td>\n",
       "      <td>Comisión Ciudadana de Agua Potable y Alcantari...</td>\n",
       "      <td>CCAPAMA</td>\n",
       "      <td>Aguascalientes</td>\n",
       "      <td>Aguascalientes</td>\n",
       "      <td>NaN</td>\n",
       "      <td>01</td>\n",
       "      <td>001</td>\n",
       "      <td>nan</td>\n",
       "    </tr>\n",
       "    <tr>\n",
       "      <th>2</th>\n",
       "      <td>Jesús María</td>\n",
       "      <td>Comisión de Agua Potable Alcantarillado y Sane...</td>\n",
       "      <td>CAPAS</td>\n",
       "      <td>Aguascalientes</td>\n",
       "      <td>Jesús María</td>\n",
       "      <td>NaN</td>\n",
       "      <td>01</td>\n",
       "      <td>005</td>\n",
       "      <td>nan</td>\n",
       "    </tr>\n",
       "    <tr>\n",
       "      <th>3</th>\n",
       "      <td>Calvillo</td>\n",
       "      <td>Organismo Operador de Servicios de Agua de Cal...</td>\n",
       "      <td>OOSAC</td>\n",
       "      <td>Aguascalientes</td>\n",
       "      <td>Calvillo</td>\n",
       "      <td>NaN</td>\n",
       "      <td>01</td>\n",
       "      <td>003</td>\n",
       "      <td>nan</td>\n",
       "    </tr>\n",
       "    <tr>\n",
       "      <th>4</th>\n",
       "      <td>Asientos</td>\n",
       "      <td>Sistema de Agua Potable y Alcantarillado de As...</td>\n",
       "      <td>SAPA</td>\n",
       "      <td>Aguascalientes</td>\n",
       "      <td>Asientos</td>\n",
       "      <td>NaN</td>\n",
       "      <td>01</td>\n",
       "      <td>002</td>\n",
       "      <td>nan</td>\n",
       "    </tr>\n",
       "    <tr>\n",
       "      <th>5</th>\n",
       "      <td>Tecate</td>\n",
       "      <td>Comisión Estatal de Servicios Públicos de Teca...</td>\n",
       "      <td>CESPTE</td>\n",
       "      <td>Baja California</td>\n",
       "      <td>Tecate</td>\n",
       "      <td>NaN</td>\n",
       "      <td>02</td>\n",
       "      <td>003</td>\n",
       "      <td>nan</td>\n",
       "    </tr>\n",
       "  </tbody>\n",
       "</table>\n",
       "</div>"
      ],
      "text/plain": [
       "     Nombre- PIGOO                                 Organismo Operador  \\\n",
       "N°                                                                      \n",
       "1   Aguascalientes  Comisión Ciudadana de Agua Potable y Alcantari...   \n",
       "2      Jesús María  Comisión de Agua Potable Alcantarillado y Sane...   \n",
       "3         Calvillo  Organismo Operador de Servicios de Agua de Cal...   \n",
       "4         Asientos  Sistema de Agua Potable y Alcantarillado de As...   \n",
       "5           Tecate  Comisión Estatal de Servicios Públicos de Teca...   \n",
       "\n",
       "     Siglas           Estado Municipio-Inegi Loc-Inegi Clave-Estado-Inegi  \\\n",
       "N°                                                                          \n",
       "1   CCAPAMA   Aguascalientes  Aguascalientes       NaN                 01   \n",
       "2     CAPAS   Aguascalientes     Jesús María       NaN                 01   \n",
       "3     OOSAC   Aguascalientes        Calvillo       NaN                 01   \n",
       "4      SAPA   Aguascalientes        Asientos       NaN                 01   \n",
       "5    CESPTE  Baja California          Tecate       NaN                 02   \n",
       "\n",
       "   Clave-Municipio-Inegi Clave-Localidad-Inegi  \n",
       "N°                                              \n",
       "1                    001                   nan  \n",
       "2                    005                   nan  \n",
       "3                    003                   nan  \n",
       "4                    002                   nan  \n",
       "5                    003                   nan  "
      ]
     },
     "execution_count": 5,
     "metadata": {},
     "output_type": "execute_result"
    }
   ],
   "source": [
    "# Carga del dataset \"CiudadesPIGOO_ClaveInegi.xlsx\" al sistema\n",
    "pigoo_inegi = r'D:\\PCCS\\01_Dmine\\Datasets\\Pigoo\\CiudadesPIGOO_ClaveInegi.xlsx'\n",
    "pigoo_inegi_df = pd.read_excel(pigoo_inegi, sheetname='OOAPAS-PIGOO', index_col=0,\n",
    "                      dtype={'Clave-Estado-Inegi': str,\n",
    "                             'Clave-Municipio-Inegi': str,\n",
    "                             'Clave-Localidad-Inegi': str})\n",
    "pigoo_inegi_df.head()"
   ]
  },
  {
   "cell_type": "markdown",
   "metadata": {},
   "source": [
    "Gracias a que este dataset ya contiene etiquetas con claves geoestadísticas, es posible clasificarlas a su vez dentro de acuerdo con el Sistema Urbano Nacional. Para hacer la clasificación, se utiliza un algoritmo elaborado previamente que identifica la clave geoestadística municipal de 5 dígitos (\"CVE_MUN\") en cada renglón y la clasifica el municipio identificado asignándole la clave del Sistema Urbano Nacional (\"CVE_SUN\") a la que pertenece.\n",
    "Es importante señalar las limitaciones de este algoritmo:\n",
    "1. El algoritmo, además de clasificar los municipios, les asigna el nombre estándar como aparece en el marco geoestadístico del INEGI y el nombre de las ciudades como aparece en el Sistema Urbano Nacional.\n",
    "2. Unicamente clasifica municipios que forma parte del Subsistema Principal del SUN. Desecha aquellos que no forman parte del Subsistema Principal.\n",
    "3. Unicamente clasifica renglones cuya clave geoestadística municipal es de 5 dígitos (\"CVE_MUN\"). Esto es relevante pues en el dataset de entrada, la \"Ciudad de México\"  únicamente cuentan con 2 dígitos de clave geoestadística"
   ]
  },
  {
   "cell_type": "code",
   "execution_count": 10,
   "metadata": {},
   "outputs": [
    {
     "data": {
      "text/html": [
       "<div>\n",
       "<style>\n",
       "    .dataframe thead tr:only-child th {\n",
       "        text-align: right;\n",
       "    }\n",
       "\n",
       "    .dataframe thead th {\n",
       "        text-align: left;\n",
       "    }\n",
       "\n",
       "    .dataframe tbody tr th {\n",
       "        vertical-align: top;\n",
       "    }\n",
       "</style>\n",
       "<table border=\"1\" class=\"dataframe\">\n",
       "  <thead>\n",
       "    <tr style=\"text-align: right;\">\n",
       "      <th></th>\n",
       "      <th>Nombre- PIGOO</th>\n",
       "      <th>CVE_MUN</th>\n",
       "      <th>NOM_MUN</th>\n",
       "      <th>CVE_SUN</th>\n",
       "      <th>NOM_SUN</th>\n",
       "      <th>TIPO_SUN</th>\n",
       "      <th>NOM_ENT</th>\n",
       "      <th>Organismo Operador</th>\n",
       "      <th>Siglas</th>\n",
       "      <th>Loc-Inegi</th>\n",
       "    </tr>\n",
       "  </thead>\n",
       "  <tbody>\n",
       "    <tr>\n",
       "      <th>0</th>\n",
       "      <td>Aguascalientes</td>\n",
       "      <td>01001</td>\n",
       "      <td>Aguascalientes</td>\n",
       "      <td>001</td>\n",
       "      <td>Aguascalientes</td>\n",
       "      <td>1</td>\n",
       "      <td>Aguascalientes</td>\n",
       "      <td>Comisión Ciudadana de Agua Potable y Alcantari...</td>\n",
       "      <td>CCAPAMA</td>\n",
       "      <td>NaN</td>\n",
       "    </tr>\n",
       "    <tr>\n",
       "      <th>1</th>\n",
       "      <td>Jesús María</td>\n",
       "      <td>01005</td>\n",
       "      <td>Jesús María</td>\n",
       "      <td>001</td>\n",
       "      <td>Aguascalientes</td>\n",
       "      <td>1</td>\n",
       "      <td>Aguascalientes</td>\n",
       "      <td>Comisión de Agua Potable Alcantarillado y Sane...</td>\n",
       "      <td>CAPAS</td>\n",
       "      <td>NaN</td>\n",
       "    </tr>\n",
       "    <tr>\n",
       "      <th>2</th>\n",
       "      <td>Tecate</td>\n",
       "      <td>02003</td>\n",
       "      <td>Tecate</td>\n",
       "      <td>002</td>\n",
       "      <td>Tijuana</td>\n",
       "      <td>1</td>\n",
       "      <td>Baja California</td>\n",
       "      <td>Comisión Estatal de Servicios Públicos de Teca...</td>\n",
       "      <td>CESPTE</td>\n",
       "      <td>NaN</td>\n",
       "    </tr>\n",
       "    <tr>\n",
       "      <th>3</th>\n",
       "      <td>Tijuana</td>\n",
       "      <td>02004</td>\n",
       "      <td>Tijuana</td>\n",
       "      <td>002</td>\n",
       "      <td>Tijuana</td>\n",
       "      <td>1</td>\n",
       "      <td>Baja California</td>\n",
       "      <td>Comisión Estatal de Servicios Públicos de Tiju...</td>\n",
       "      <td>CESPT</td>\n",
       "      <td>NaN</td>\n",
       "    </tr>\n",
       "    <tr>\n",
       "      <th>4</th>\n",
       "      <td>Ensenada</td>\n",
       "      <td>02001</td>\n",
       "      <td>Ensenada</td>\n",
       "      <td>060</td>\n",
       "      <td>Ensenada</td>\n",
       "      <td>2</td>\n",
       "      <td>Baja California</td>\n",
       "      <td>Comisión Estatal de Servicios Públicos de Ense...</td>\n",
       "      <td>CESPE</td>\n",
       "      <td>NaN</td>\n",
       "    </tr>\n",
       "  </tbody>\n",
       "</table>\n",
       "</div>"
      ],
      "text/plain": [
       "    Nombre- PIGOO CVE_MUN         NOM_MUN CVE_SUN         NOM_SUN  TIPO_SUN  \\\n",
       "0  Aguascalientes   01001  Aguascalientes     001  Aguascalientes         1   \n",
       "1     Jesús María   01005     Jesús María     001  Aguascalientes         1   \n",
       "2          Tecate   02003          Tecate     002         Tijuana         1   \n",
       "3         Tijuana   02004         Tijuana     002         Tijuana         1   \n",
       "4        Ensenada   02001        Ensenada     060        Ensenada         2   \n",
       "\n",
       "           NOM_ENT                                 Organismo Operador  \\\n",
       "0   Aguascalientes  Comisión Ciudadana de Agua Potable y Alcantari...   \n",
       "1   Aguascalientes  Comisión de Agua Potable Alcantarillado y Sane...   \n",
       "2  Baja California  Comisión Estatal de Servicios Públicos de Teca...   \n",
       "3  Baja California  Comisión Estatal de Servicios Públicos de Tiju...   \n",
       "4  Baja California  Comisión Estatal de Servicios Públicos de Ense...   \n",
       "\n",
       "    Siglas Loc-Inegi  \n",
       "0  CCAPAMA       NaN  \n",
       "1    CAPAS       NaN  \n",
       "2   CESPTE       NaN  \n",
       "3    CESPT       NaN  \n",
       "4    CESPE       NaN  "
      ]
     },
     "execution_count": 10,
     "metadata": {},
     "output_type": "execute_result"
    }
   ],
   "source": [
    "# Estandarizacion de clave geoestadistica municipal a 5 dígitos\n",
    "pigoo_inegi_df['CVE_MUN'] = pigoo_inegi_df['Clave-Estado-Inegi'].map(str) + pigoo_inegi_df['Clave-Municipio-Inegi']\n",
    "# Clasificación de acuerdo al Sistema Urbano Nacional\n",
    "variables_SUN = ['CVE_MUN', 'NOM_MUN', 'CVE_SUN', 'NOM_SUN', 'TIPO_SUN', 'NOM_ENT']\n",
    "pigoo_sun = asignar_sun(pigoo_inegi_df, vars=variables_SUN)\n",
    "Columnas = ['Nombre- PIGOO', 'CVE_MUN', 'NOM_MUN', 'CVE_SUN', 'NOM_SUN', 'TIPO_SUN', 'NOM_ENT', 'Organismo Operador', 'Siglas', 'Loc-Inegi']\n",
    "pigoo_sun[Columnas].head()"
   ]
  },
  {
   "cell_type": "markdown",
   "metadata": {},
   "source": [
    "## 2. Ciudad de México"
   ]
  },
  {
   "cell_type": "markdown",
   "metadata": {},
   "source": [
    "La ciudad de México está dividida en 16 delegaciones, cada una identificada por el INEGI con una clave geoestadística. "
   ]
  },
  {
   "cell_type": "code",
   "execution_count": 4,
   "metadata": {},
   "outputs": [
    {
     "ename": "NameError",
     "evalue": "name 'rcsv' is not defined",
     "output_type": "error",
     "traceback": [
      "\u001b[1;31m---------------------------------------------------------------------------\u001b[0m",
      "\u001b[1;31mNameError\u001b[0m                                 Traceback (most recent call last)",
      "\u001b[1;32m<ipython-input-4-9454371fceda>\u001b[0m in \u001b[0;36m<module>\u001b[1;34m()\u001b[0m\n\u001b[1;32m----> 1\u001b[1;33m \u001b[0msun\u001b[0m \u001b[1;33m=\u001b[0m \u001b[0mgetsun\u001b[0m\u001b[1;33m(\u001b[0m\u001b[1;33m)\u001b[0m\u001b[1;33m\u001b[0m\u001b[0m\n\u001b[0m\u001b[0;32m      2\u001b[0m \u001b[0msun\u001b[0m\u001b[1;33m.\u001b[0m\u001b[0mhead\u001b[0m\u001b[1;33m(\u001b[0m\u001b[1;33m)\u001b[0m\u001b[1;33m\u001b[0m\u001b[0m\n",
      "\u001b[1;32mD:\\PCCS\\01_Dmine\\Scripts\\SUN\\CargaSunPrincipal.py\u001b[0m in \u001b[0;36mgetsun\u001b[1;34m()\u001b[0m\n\u001b[0;32m     11\u001b[0m \u001b[1;32mdef\u001b[0m \u001b[0mgetsun\u001b[0m\u001b[1;33m(\u001b[0m\u001b[1;33m)\u001b[0m\u001b[1;33m:\u001b[0m\u001b[1;33m\u001b[0m\u001b[0m\n\u001b[0;32m     12\u001b[0m     \u001b[1;31m# Cargar archivo del Subsistema Principal del SUN\u001b[0m\u001b[1;33m\u001b[0m\u001b[1;33m\u001b[0m\u001b[0m\n\u001b[1;32m---> 13\u001b[1;33m     sun = rcsv(r'D:\\PCCS\\01_Dmine\\00_Generales\\sun_main.csv',\n\u001b[0m\u001b[0;32m     14\u001b[0m                       dtype={'CVE_SUN': str,\n\u001b[0;32m     15\u001b[0m                              \u001b[1;34m'CVE_ENT'\u001b[0m\u001b[1;33m:\u001b[0m \u001b[0mstr\u001b[0m\u001b[1;33m,\u001b[0m\u001b[1;33m\u001b[0m\u001b[0m\n",
      "\u001b[1;31mNameError\u001b[0m: name 'rcsv' is not defined"
     ]
    }
   ],
   "source": [
    "sun = getsun()\n",
    "sun.head()"
   ]
  },
  {
   "cell_type": "markdown",
   "metadata": {},
   "source": [
    "En el Dataset de PIGOO la Ciudad de México está considerada como una unidad monolítica"
   ]
  },
  {
   "cell_type": "code",
   "execution_count": 8,
   "metadata": {},
   "outputs": [
    {
     "data": {
      "text/plain": [
       "Nombre- PIGOO                                            Ciudad De México\n",
       "Organismo Operador       Sistema de Aguas de La Ciudad de México (SACMEX)\n",
       "Siglas                                                               SACM\n",
       "Estado                                                   Distrito Federal\n",
       "Municipio-Inegi                                          Ciudad de México\n",
       "Loc-Inegi                                                             NaN\n",
       "Clave-Estado-Inegi                                                     09\n",
       "Clave-Municipio-Inegi                                                 nan\n",
       "Clave-Localidad-Inegi                                                 nan\n",
       "CVE_MUN                                                             09nan\n",
       "Name: 42, dtype: object"
      ]
     },
     "execution_count": 8,
     "metadata": {},
     "output_type": "execute_result"
    }
   ],
   "source": [
    "pigoo_inegi_df.loc[42]"
   ]
  },
  {
   "cell_type": "code",
   "execution_count": 15,
   "metadata": {},
   "outputs": [
    {
     "data": {
      "text/plain": [
       "161"
      ]
     },
     "execution_count": 15,
     "metadata": {},
     "output_type": "execute_result"
    }
   ],
   "source": []
  },
  {
   "cell_type": "code",
   "execution_count": 22,
   "metadata": {
    "collapsed": true
   },
   "outputs": [],
   "source": []
  },
  {
   "cell_type": "code",
   "execution_count": 29,
   "metadata": {
    "collapsed": true
   },
   "outputs": [],
   "source": [
    "writer = pd.ExcelWriter(r'D:\\PCCS\\01_Dmine\\Datasets\\Pigoo\\pigoo_notreviewd.xlsx')\n",
    "pigoo_inegi_df[~ciudades_revisadas].to_excel(writer, sheet_name ='datos')\n",
    "writer.close()"
   ]
  }
 ],
 "metadata": {
  "kernelspec": {
   "display_name": "Python 3",
   "language": "python",
   "name": "python3"
  },
  "language_info": {
   "codemirror_mode": {
    "name": "ipython",
    "version": 3
   },
   "file_extension": ".py",
   "mimetype": "text/x-python",
   "name": "python",
   "nbconvert_exporter": "python",
   "pygments_lexer": "ipython3",
   "version": "3.6.1"
  }
 },
 "nbformat": 4,
 "nbformat_minor": 1
}
