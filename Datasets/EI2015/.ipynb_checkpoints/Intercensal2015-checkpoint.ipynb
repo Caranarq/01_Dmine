{
 "cells": [
  {
   "cell_type": "markdown",
   "metadata": {},
   "source": [
    "# Limpieza de dataset de la Encuesta Intercensal 2015\n",
    "Para la construcción de indicadores de la Plataforma de Conocimiento de Ciudades Sustentables se han considerado los siguientes datos disponibles desde la Encuesta Intercensal del INEGI:\n",
    "\n",
    "ID |Descripción\n",
    "---|:----------\n",
    "P0101|Porcentaje de viviendas con agua entubada\n",
    "P0102|Porcentaje de viviendas que cuentan con descarga a una red de alcantarillado.\n",
    "P0402|Viviendas que aprovechan energía solar\n",
    "P0403|Viviendas con drenaje\n",
    "P0404|Viviendas con piso de tierra\n",
    "P0603|Viviendas particulares habitadas con calentador de agua (boiler)\n",
    "P0611|Viviendas que utilizan leña o carbón para cocinar\n",
    "P0612|Viviendas que utilizan leña o carbón para cocinar, que disponen de estufa o fogón con chimenea\n",
    "P0613|Viviendas habitadas que utilizan gas para cocinar\n",
    "P1004|Forma de eliminación de residuos\n",
    "P1010|Porcentaje de viviendas  de reutilización de residuos\n",
    "P1011|Porcentaje de viviendas que separan sus residuos en orgánicos e inorgánicos"
   ]
  },
  {
   "cell_type": "markdown",
   "metadata": {},
   "source": [
    "En este documento se describen los pasos llevados a cabo para estandarizar los datos disponibles desde la encuesta intercensal y utilizarlos para la construcción de parámetros. Las limpieza se realiza utilizando Python 3."
   ]
  },
  {
   "cell_type": "markdown",
   "metadata": {},
   "source": [
    "## Definiciones\n",
    "\n",
    "**PCCS** : Plataforma de Conocimiento de Ciudades Sustentables\n",
    "\n",
    "**Dataset** : Conjunto de datos que tratan acerca de un tema, usualmente ordenados para facilitar su lectura por un ser humano, \n",
    "que por lo general requieren ser procesados para facilitar su lectura por sistemas informáticos. \n",
    "\n",
    "**Dataframe** : Estructura bidimensional de datos, estructurada en filas que contienen casos y columnas que contienen variables."
   ]
  },
  {
   "cell_type": "markdown",
   "metadata": {},
   "source": [
    "## Proceso de Minería de Datos"
   ]
  },
  {
   "cell_type": "code",
   "execution_count": 8,
   "metadata": {
    "collapsed": true
   },
   "outputs": [],
   "source": [
    "# Librerias utilizadas\n",
    "import pandas as pd\n",
    "import sys\n",
    "import urllib\n",
    "import os\n",
    "\n",
    "module_path = r'D:\\PCCS\\01_Dmine\\Scripts'\n",
    "if module_path not in sys.path:\n",
    "    sys.path.append(module_path)\n",
    "from SUN.asignar_sun import asignar_sun\n",
    "from SUN_integridad.SUN_integridad import SUN_integridad\n",
    "from SUN.CargaSunPrincipal import getsun"
   ]
  },
  {
   "cell_type": "code",
   "execution_count": 4,
   "metadata": {
    "scrolled": true
   },
   "outputs": [
    {
     "name": "stdout",
     "output_type": "stream",
     "text": [
      "Python 3.6.1 |Anaconda 4.4.0 (64-bit)| (default, May 11 2017, 13:25:24) [MSC v.1900 64 bit (AMD64)] on win32\n",
      "Pandas version: 0.20.1\n",
      "Running on Windows 8.1\n"
     ]
    }
   ],
   "source": [
    "# Configuracion del sistema\n",
    "print('Python {} on {}'.format(sys.version, sys.platform))\n",
    "print('Pandas version: {}'.format(pd.__version__))\n",
    "import platform; print('Running on {} {}'.format(platform.system(), platform.release()))"
   ]
  },
  {
   "cell_type": "markdown",
   "metadata": {},
   "source": [
    "La descarga de datos se realiza desde el sitio Beta de INEGI. Los datos de la Encuesta Intercensal 2015 se encuentran en http://www.beta.inegi.org.mx/proyectos/enchogares/especiales/intercensal/\n",
    "\n",
    "Existen tres maneras de descargar la información:\n",
    "\n",
    "1. **Datos para la República Mexicana**, con la ventaja de que es un solo archivo con variables procesadas y con la desventaja de que su nivel de desagregación es estatal.\n",
    "2. **Datos estatales**, con la ventaja de que cuentan con desagregacion a nivel municipal con variables interpretadas y con la desventaja de que la información está fragmentada en muchos archivos pues hay un archivo por variable por estado.\n",
    "3. **Microdatos**, con la ventaja de que contienen toda la información del Proyecto en pocos archivos y con la desventaja de que tienen que interpretarse antes de obtener valores útiles para la PCCS.\n",
    "\n",
    "La manera más conveniente es descargar los datos estatales, pues la primera no entregaría datos relevantes para la construccion de indicadores de la PCCS y la segunda requeriría dedicar una gran cantidad de tiempo y esfuerzo para recrear la interpretacion realizada por INEGI. \n",
    "Todos los indicadores que se utilizarán para la construccion de la PCCS se encuentran en la encuesta de Vivienda, por lo que únicamente se descargará el paquete de datos de esta encuesta"
   ]
  },
  {
   "cell_type": "code",
   "execution_count": 34,
   "metadata": {
    "collapsed": true
   },
   "outputs": [],
   "source": [
    "# LIGAS PARA DESCARGA DE ARCHIVOS\n",
    "# Las ligas para descarga tienen una raiz URL común que cambia \n",
    "# dependiendo del indicador y estado que se busque descargar \n",
    "url = r'http://www.beta.inegi.org.mx/contenidos/Proyectos/enchogares/especiales/intercensal/2015/tabulados/'\n",
    "indicador = r'14_vivienda_'\n",
    "raiz = url+indicador\n",
    "links = {\n",
    "    '01' : raiz+'ags.xls',\n",
    "    '02' : raiz+'bc.xls',\n",
    "    '03' : raiz+'bcs.xls',\n",
    "    '04' : raiz+'cam.xls',\n",
    "    '05' : raiz+'coah.xls',\n",
    "    '06' : raiz+'col.xls',\n",
    "    '07' : raiz+'chis.xls',\n",
    "    '08' : raiz+'chih.xls',\n",
    "    '09' : raiz+'cdmx.xls',\n",
    "    '10' : raiz+'dgo.xls',\n",
    "    '11' : raiz+'gto.xls',\n",
    "    '12' : raiz+'gro.xls',\n",
    "    '13' : raiz+'hgo.xls',\n",
    "    '14' : raiz+'jal.xls',\n",
    "    '15' : raiz+'mex.xls',\n",
    "    '16' : raiz+'mich.xls',\n",
    "    '17' : raiz+'mor.xls',\n",
    "    '18' : raiz+'nay.xls',\n",
    "    '19' : raiz+'nl.xls',\n",
    "    '20' : raiz+'oax.xls',\n",
    "    '21' : raiz+'pue.xls',\n",
    "    '22' : raiz+'qro.xls',\n",
    "    '23' : raiz+'qroo.xls',\n",
    "    '24' : raiz+'slp.xls',\n",
    "    '25' : raiz+'sin.xls',\n",
    "    '26' : raiz+'son.xls',\n",
    "    '27' : raiz+'tab.xls',\n",
    "    '28' : raiz+'tamps.xlsz',\n",
    "    '29' : raiz+'tlax.xls',\n",
    "    '30' : raiz+'ver.xls',\n",
    "    '31' : raiz+'yuc.xls',\n",
    "    '32' : raiz+'zac.xls'\n",
    "}"
   ]
  },
  {
   "cell_type": "markdown",
   "metadata": {},
   "source": []
  },
  {
   "cell_type": "code",
   "execution_count": 33,
   "metadata": {},
   "outputs": [
    {
     "data": {
      "text/plain": [
       "'http://www.beta.inegi.org.mx/contenidos/Proyectos/enchogares/especiales/intercensal/2015/tabulados/14_vivienda_zac.xls'"
      ]
     },
     "execution_count": 33,
     "metadata": {},
     "output_type": "execute_result"
    }
   ],
   "source": [
    "raiz+r'zac.xls'"
   ]
  },
  {
   "cell_type": "markdown",
   "metadata": {},
   "source": [
    "Las ligas quedan almacenadas en un diccionario de python en el que \"key\" = Clave Geoestadística Estatal; y value = liga para descarga. Por ejemplo, '09' es la clave geoestadística para la Ciudad de México. Si al diccionario links le solicitamos el valor de la key '09', nos regresa la liga para descargar los indicadores de vivienda de la Ciudad de México, como se muestra a continuación:"
   ]
  },
  {
   "cell_type": "code",
   "execution_count": 35,
   "metadata": {
    "scrolled": false
   },
   "outputs": [
    {
     "name": "stdout",
     "output_type": "stream",
     "text": [
      "http://www.beta.inegi.org.mx/contenidos/Proyectos/enchogares/especiales/intercensal/2015/tabulados/14_vivienda_cdmx.xls\n"
     ]
    }
   ],
   "source": [
    "print(links['09'])"
   ]
  },
  {
   "cell_type": "markdown",
   "metadata": {},
   "source": [
    "Con el diccionario de ligas ya es posible descargar los archivos en una carpeta local para poder procesarlos."
   ]
  },
  {
   "cell_type": "code",
   "execution_count": 36,
   "metadata": {
    "scrolled": true
   },
   "outputs": [
    {
     "name": "stdout",
     "output_type": "stream",
     "text": [
      "Ya existe el archivo: D:\\PCCS\\00_RawData\\01_CSV\\Intercensal2015\\estatal\\14. Vivienda\\01.xls\n",
      "Ya existe el archivo: D:\\PCCS\\00_RawData\\01_CSV\\Intercensal2015\\estatal\\14. Vivienda\\02.xls\n",
      "Ya existe el archivo: D:\\PCCS\\00_RawData\\01_CSV\\Intercensal2015\\estatal\\14. Vivienda\\03.xls\n",
      "Ya existe el archivo: D:\\PCCS\\00_RawData\\01_CSV\\Intercensal2015\\estatal\\14. Vivienda\\04.xls\n",
      "Ya existe el archivo: D:\\PCCS\\00_RawData\\01_CSV\\Intercensal2015\\estatal\\14. Vivienda\\05.xls\n",
      "Ya existe el archivo: D:\\PCCS\\00_RawData\\01_CSV\\Intercensal2015\\estatal\\14. Vivienda\\06.xls\n",
      "Ya existe el archivo: D:\\PCCS\\00_RawData\\01_CSV\\Intercensal2015\\estatal\\14. Vivienda\\07.xls\n",
      "Ya existe el archivo: D:\\PCCS\\00_RawData\\01_CSV\\Intercensal2015\\estatal\\14. Vivienda\\08.xls\n",
      "Ya existe el archivo: D:\\PCCS\\00_RawData\\01_CSV\\Intercensal2015\\estatal\\14. Vivienda\\09.xls\n",
      "Ya existe el archivo: D:\\PCCS\\00_RawData\\01_CSV\\Intercensal2015\\estatal\\14. Vivienda\\10.xls\n",
      "Ya existe el archivo: D:\\PCCS\\00_RawData\\01_CSV\\Intercensal2015\\estatal\\14. Vivienda\\11.xls\n",
      "Ya existe el archivo: D:\\PCCS\\00_RawData\\01_CSV\\Intercensal2015\\estatal\\14. Vivienda\\12.xls\n",
      "Ya existe el archivo: D:\\PCCS\\00_RawData\\01_CSV\\Intercensal2015\\estatal\\14. Vivienda\\13.xls\n",
      "Ya existe el archivo: D:\\PCCS\\00_RawData\\01_CSV\\Intercensal2015\\estatal\\14. Vivienda\\14.xls\n",
      "Ya existe el archivo: D:\\PCCS\\00_RawData\\01_CSV\\Intercensal2015\\estatal\\14. Vivienda\\15.xls\n",
      "Ya existe el archivo: D:\\PCCS\\00_RawData\\01_CSV\\Intercensal2015\\estatal\\14. Vivienda\\16.xls\n",
      "Ya existe el archivo: D:\\PCCS\\00_RawData\\01_CSV\\Intercensal2015\\estatal\\14. Vivienda\\17.xls\n",
      "Ya existe el archivo: D:\\PCCS\\00_RawData\\01_CSV\\Intercensal2015\\estatal\\14. Vivienda\\18.xls\n",
      "Ya existe el archivo: D:\\PCCS\\00_RawData\\01_CSV\\Intercensal2015\\estatal\\14. Vivienda\\19.xls\n",
      "Ya existe el archivo: D:\\PCCS\\00_RawData\\01_CSV\\Intercensal2015\\estatal\\14. Vivienda\\20.xls\n",
      "Ya existe el archivo: D:\\PCCS\\00_RawData\\01_CSV\\Intercensal2015\\estatal\\14. Vivienda\\21.xls\n",
      "Ya existe el archivo: D:\\PCCS\\00_RawData\\01_CSV\\Intercensal2015\\estatal\\14. Vivienda\\22.xls\n",
      "Ya existe el archivo: D:\\PCCS\\00_RawData\\01_CSV\\Intercensal2015\\estatal\\14. Vivienda\\23.xls\n",
      "Ya existe el archivo: D:\\PCCS\\00_RawData\\01_CSV\\Intercensal2015\\estatal\\14. Vivienda\\24.xls\n",
      "Ya existe el archivo: D:\\PCCS\\00_RawData\\01_CSV\\Intercensal2015\\estatal\\14. Vivienda\\25.xls\n",
      "Ya existe el archivo: D:\\PCCS\\00_RawData\\01_CSV\\Intercensal2015\\estatal\\14. Vivienda\\26.xls\n",
      "Ya existe el archivo: D:\\PCCS\\00_RawData\\01_CSV\\Intercensal2015\\estatal\\14. Vivienda\\27.xls\n",
      "Ya existe el archivo: D:\\PCCS\\00_RawData\\01_CSV\\Intercensal2015\\estatal\\14. Vivienda\\28.xls\n",
      "Ya existe el archivo: D:\\PCCS\\00_RawData\\01_CSV\\Intercensal2015\\estatal\\14. Vivienda\\29.xls\n",
      "Ya existe el archivo: D:\\PCCS\\00_RawData\\01_CSV\\Intercensal2015\\estatal\\14. Vivienda\\30.xls\n",
      "Ya existe el archivo: D:\\PCCS\\00_RawData\\01_CSV\\Intercensal2015\\estatal\\14. Vivienda\\31.xls\n",
      "Ya existe el archivo: D:\\PCCS\\00_RawData\\01_CSV\\Intercensal2015\\estatal\\14. Vivienda\\32.xls\n"
     ]
    }
   ],
   "source": [
    "# Descarga de archivos a carpeta local\n",
    "destino = r'D:\\PCCS\\00_RawData\\01_CSV\\Intercensal2015\\estatal\\14. Vivienda'\n",
    "archivos = {}   # Diccionario para guardar memoria de descarga\n",
    "for k,v in links.items():\n",
    "    archivo_local = destino + r'\\{}.xls'.format(k)\n",
    "    if os.path.isfile(archivo_local):\n",
    "        print('Ya existe el archivo: {}'.format(archivo_local))\n",
    "        archivos[k] = archivo_local\n",
    "    else:\n",
    "        print('Descargando {} ... ... ... ... ... '.format(archivo_local))\n",
    "        urllib.request.urlretrieve(v, archivo_local) #\n",
    "        archivos[k] = archivo_local\n",
    "        print('se descargó {}'.format(archivo_local))"
   ]
  },
  {
   "cell_type": "markdown",
   "metadata": {},
   "source": [
    "Cada archivo tiene la misma estructura y contiene los datos de vivienda de 2015 levantados en la encuesta intercensal. La primera hoja, 'Índice', incluye un listado de las hojas y datos que contiene cada libro. Este índice se tomará como referencia para la minería de datos:"
   ]
  },
  {
   "cell_type": "code",
   "execution_count": 32,
   "metadata": {},
   "outputs": [
    {
     "data": {
      "text/html": [
       "<div>\n",
       "<style>\n",
       "    .dataframe thead tr:only-child th {\n",
       "        text-align: right;\n",
       "    }\n",
       "\n",
       "    .dataframe thead th {\n",
       "        text-align: left;\n",
       "    }\n",
       "\n",
       "    .dataframe tbody tr th {\n",
       "        vertical-align: top;\n",
       "    }\n",
       "</style>\n",
       "<table border=\"1\" class=\"dataframe\">\n",
       "  <thead>\n",
       "    <tr style=\"text-align: right;\">\n",
       "      <th></th>\n",
       "      <th>Título</th>\n",
       "    </tr>\n",
       "    <tr>\n",
       "      <th>Tabulado</th>\n",
       "      <th></th>\n",
       "    </tr>\n",
       "  </thead>\n",
       "  <tbody>\n",
       "    <tr>\n",
       "      <th>01</th>\n",
       "      <td>Estimadores de las viviendas particulares habitadas y su distribución porcentual según clase de vivienda particular por municipio</td>\n",
       "    </tr>\n",
       "    <tr>\n",
       "      <th>02</th>\n",
       "      <td>Estimadores de las viviendas particulares habitadas y su distribución porcentual según material en pisos por municipio</td>\n",
       "    </tr>\n",
       "    <tr>\n",
       "      <th>03</th>\n",
       "      <td>Estimadores de las viviendas particulares habitadas y su distribución porcentual según resistencia de los materiales en techos por municipio</td>\n",
       "    </tr>\n",
       "    <tr>\n",
       "      <th>04</th>\n",
       "      <td>Estimadores de las viviendas particulares habitadas y su distribución porcentual según resistencia de los materiales en paredes por municipio</td>\n",
       "    </tr>\n",
       "    <tr>\n",
       "      <th>05</th>\n",
       "      <td>Estimadores de las viviendas particulares habitadas y su distribución porcentual según número de cuartos por municipio</td>\n",
       "    </tr>\n",
       "    <tr>\n",
       "      <th>06</th>\n",
       "      <td>Estimadores de las viviendas particulares habitadas y su distribución porcentual según número de dormitorios por municipio</td>\n",
       "    </tr>\n",
       "    <tr>\n",
       "      <th>07</th>\n",
       "      <td>Estimadores de las viviendas particulares habitadas en las que sus ocupantes cocinan y su distribución porcentual según lugar de la vivienda o pre...</td>\n",
       "    </tr>\n",
       "    <tr>\n",
       "      <th>08</th>\n",
       "      <td>Estimadores de las viviendas particulares habitadas y su distribución porcentual según combustible utilizado para cocinar por municipio</td>\n",
       "    </tr>\n",
       "    <tr>\n",
       "      <th>09</th>\n",
       "      <td>Estimadores de las viviendas particulares habitadas en las que sus ocupantes utilizan leña o carbón para cocinar y su distribución porcentual segú...</td>\n",
       "    </tr>\n",
       "    <tr>\n",
       "      <th>10</th>\n",
       "      <td>Estimadores de las viviendas particulares habitadas y su distribución porcentual según tenencia por municipio</td>\n",
       "    </tr>\n",
       "    <tr>\n",
       "      <th>11</th>\n",
       "      <td>Estimadores de las viviendas particulares habitadas propias y su distribución porcentual según condición de existencia de escrituras o título de p...</td>\n",
       "    </tr>\n",
       "    <tr>\n",
       "      <th>12</th>\n",
       "      <td>Estimadores de las viviendas particulares habitadas propias y su distribución porcentual según forma de adquisición por municipio</td>\n",
       "    </tr>\n",
       "    <tr>\n",
       "      <th>13</th>\n",
       "      <td>Estimadores de los ocupantes de las viviendas particulares habitadas y su distribución porcentual según disponibilidad de agua entubada y acceso a...</td>\n",
       "    </tr>\n",
       "    <tr>\n",
       "      <th>14</th>\n",
       "      <td>Estimadores de los ocupantes de las viviendas particulares habitadas que disponen de agua entubada y su distribución porcentual según fuente del a...</td>\n",
       "    </tr>\n",
       "    <tr>\n",
       "      <th>15</th>\n",
       "      <td>Estimadores de los ocupantes de las viviendas particulares habitadas y su distribución porcentual según disponibilidad de drenaje y lugar de desal...</td>\n",
       "    </tr>\n",
       "    <tr>\n",
       "      <th>16</th>\n",
       "      <td>Estimadores de las viviendas particulares habitadas y su distribución porcentual según disponibilidad de energía eléctrica por municipio</td>\n",
       "    </tr>\n",
       "    <tr>\n",
       "      <th>17</th>\n",
       "      <td>Estimadores de las viviendas particulares habitadas que disponen de energía eléctrica y su distribución porcentual según número de focos en la viv...</td>\n",
       "    </tr>\n",
       "    <tr>\n",
       "      <th>18</th>\n",
       "      <td>Estimadores de las viviendas particulares habitadas y su distribución porcentual según disponibilidad y tipo de sanitario de acuerdo con la condic...</td>\n",
       "    </tr>\n",
       "    <tr>\n",
       "      <th>19</th>\n",
       "      <td>Estimadores de las viviendas particulares habitadas y su distribución porcentual según la forma de eliminación de residuos por municipio</td>\n",
       "    </tr>\n",
       "    <tr>\n",
       "      <th>20</th>\n",
       "      <td>Estimadores de las viviendas particulares habitadas en las que sus ocupantes entregan los residuos al servicio público de recolección o los coloca...</td>\n",
       "    </tr>\n",
       "    <tr>\n",
       "      <th>21</th>\n",
       "      <td>Estimadores de las viviendas particulares habitadas y su distribución porcentual según condición de separación y reutilización de residuos por mun...</td>\n",
       "    </tr>\n",
       "    <tr>\n",
       "      <th>22</th>\n",
       "      <td>Estimadores de las viviendas particulares habitadas y su distribución porcentual según disponibilidad de bienes y tecnologías de la información y ...</td>\n",
       "    </tr>\n",
       "    <tr>\n",
       "      <th>23</th>\n",
       "      <td>Estimadores de las viviendas particulares habitadas y su distribución porcentual según disponibilidad de equipamiento por municipio y tipo de equi...</td>\n",
       "    </tr>\n",
       "    <tr>\n",
       "      <th>24</th>\n",
       "      <td>Estimadores de las viviendas particulares habitadas y su distribución porcentual según disponibilidad de agua entubada y acceso al agua por municipio</td>\n",
       "    </tr>\n",
       "    <tr>\n",
       "      <th>25</th>\n",
       "      <td>Estimadores de las viviendas particulares habitadas que disponen de agua entubada y su distribución porcentual según fuente del abastecimiento del...</td>\n",
       "    </tr>\n",
       "    <tr>\n",
       "      <th>26</th>\n",
       "      <td>Estimadores de las viviendas particulares habitadas y su distribución porcentual según disponibilidad de drenaje y lugar de desalojo por municipio</td>\n",
       "    </tr>\n",
       "  </tbody>\n",
       "</table>\n",
       "</div>"
      ],
      "text/plain": [
       "                                                                                                                                                         Título\n",
       "Tabulado                                                                                                                                                       \n",
       "01                            Estimadores de las viviendas particulares habitadas y su distribución porcentual según clase de vivienda particular por municipio\n",
       "02                                       Estimadores de las viviendas particulares habitadas y su distribución porcentual según material en pisos por municipio\n",
       "03                 Estimadores de las viviendas particulares habitadas y su distribución porcentual según resistencia de los materiales en techos por municipio\n",
       "04                Estimadores de las viviendas particulares habitadas y su distribución porcentual según resistencia de los materiales en paredes por municipio\n",
       "05                                       Estimadores de las viviendas particulares habitadas y su distribución porcentual según número de cuartos por municipio\n",
       "06                                   Estimadores de las viviendas particulares habitadas y su distribución porcentual según número de dormitorios por municipio\n",
       "07        Estimadores de las viviendas particulares habitadas en las que sus ocupantes cocinan y su distribución porcentual según lugar de la vivienda o pre...\n",
       "08                      Estimadores de las viviendas particulares habitadas y su distribución porcentual según combustible utilizado para cocinar por municipio\n",
       "09        Estimadores de las viviendas particulares habitadas en las que sus ocupantes utilizan leña o carbón para cocinar y su distribución porcentual segú...\n",
       "10                                                Estimadores de las viviendas particulares habitadas y su distribución porcentual según tenencia por municipio\n",
       "11        Estimadores de las viviendas particulares habitadas propias y su distribución porcentual según condición de existencia de escrituras o título de p...\n",
       "12                            Estimadores de las viviendas particulares habitadas propias y su distribución porcentual según forma de adquisición por municipio\n",
       "13        Estimadores de los ocupantes de las viviendas particulares habitadas y su distribución porcentual según disponibilidad de agua entubada y acceso a...\n",
       "14        Estimadores de los ocupantes de las viviendas particulares habitadas que disponen de agua entubada y su distribución porcentual según fuente del a...\n",
       "15        Estimadores de los ocupantes de las viviendas particulares habitadas y su distribución porcentual según disponibilidad de drenaje y lugar de desal...\n",
       "16                     Estimadores de las viviendas particulares habitadas y su distribución porcentual según disponibilidad de energía eléctrica por municipio\n",
       "17        Estimadores de las viviendas particulares habitadas que disponen de energía eléctrica y su distribución porcentual según número de focos en la viv...\n",
       "18        Estimadores de las viviendas particulares habitadas y su distribución porcentual según disponibilidad y tipo de sanitario de acuerdo con la condic...\n",
       "19                     Estimadores de las viviendas particulares habitadas y su distribución porcentual según la forma de eliminación de residuos por municipio\n",
       "20        Estimadores de las viviendas particulares habitadas en las que sus ocupantes entregan los residuos al servicio público de recolección o los coloca...\n",
       "21        Estimadores de las viviendas particulares habitadas y su distribución porcentual según condición de separación y reutilización de residuos por mun...\n",
       "22        Estimadores de las viviendas particulares habitadas y su distribución porcentual según disponibilidad de bienes y tecnologías de la información y ...\n",
       "23        Estimadores de las viviendas particulares habitadas y su distribución porcentual según disponibilidad de equipamiento por municipio y tipo de equi...\n",
       "24        Estimadores de las viviendas particulares habitadas y su distribución porcentual según disponibilidad de agua entubada y acceso al agua por municipio\n",
       "25        Estimadores de las viviendas particulares habitadas que disponen de agua entubada y su distribución porcentual según fuente del abastecimiento del...\n",
       "26           Estimadores de las viviendas particulares habitadas y su distribución porcentual según disponibilidad de drenaje y lugar de desalojo por municipio"
      ]
     },
     "execution_count": 32,
     "metadata": {},
     "output_type": "execute_result"
    }
   ],
   "source": [
    "pd.options.display.max_colwidth = 150\n",
    "df = pd.read_excel(archivos['01'],\n",
    "              sheetname = 'Índice',\n",
    "              skiprows = 6,\n",
    "              usecols = ['Tabulado', 'Título'],\n",
    "              dtype = {'Tabulado' : 'str'},\n",
    "              ).set_index('Tabulado')\n",
    "df"
   ]
  },
  {
   "attachments": {},
   "cell_type": "markdown",
   "metadata": {},
   "source": [
    "La columna 'Tabulado' contiene el nombre de la hoja, mientras que 'Titulo' describe los datos de la misma. Para la construcción de parámetros de la PCCS se utilizarán las siguientes hojas:\n",
    "\n",
    "HOJA | PARAMETRO | DESCRIPCION\n",
    "----|----------|:-----------\n",
    "25|P0101|Porcentaje de viviendas con agua entubada\n",
    "26|P0102|Porcentaje de viviendas que cuentan con descarga a una red de alcantarillado.\n",
    "26|P0403|Viviendas con drenaje\n",
    "02|P0404|Viviendas con piso de tierra\n",
    "23|P0603|Viviendas particulares habitadas con calentador de agua (boiler)\n",
    "08|P0611|Viviendas que utilizan leña o carbón para cocinar\n",
    "09|P0612|Viviendas que utilizan leña o carbón para cocinar, que disponen de estufa o fogón con chimenea\n",
    "08|P0613|Viviendas habitadas que utilizan gas para cocinar\n",
    "19|P1004|Forma de eliminación de residuos\n",
    "21|P1010|Porcentaje de viviendas  de reutilización de residuos\n",
    "20|P1011|Porcentaje de viviendas que separan sus residuos en orgánicos e inorgánicos\n",
    "\n",
    "Los siguientes parámetros se pueden obtener desde otras fuentes, pero se incluirán en esta minería por encontrarse también disponibles para 2015 en este dataset.\n",
    "\n",
    "HOJA  | PARAMETRO  | DESCRIPCION\n",
    "----  | ---------- | :-----------\n",
    "23 | P0604 | Viviendas particulares habitadas con calentador solar | \n",
    "23 | P0605 | Viviendas particulares habitadas con panel fotovoltaico\t| "
   ]
  },
  {
   "cell_type": "markdown",
   "metadata": {},
   "source": [
    "## Creacion de Datasets estándar\n",
    "A partir de las hojas identificadas y asociadas con parámetros, es necesario crear un dataframe"
   ]
  }
 ],
 "metadata": {
  "kernelspec": {
   "display_name": "Python 3",
   "language": "python",
   "name": "python3"
  },
  "language_info": {
   "codemirror_mode": {
    "name": "ipython",
    "version": 3
   },
   "file_extension": ".py",
   "mimetype": "text/x-python",
   "name": "python",
   "nbconvert_exporter": "python",
   "pygments_lexer": "ipython3",
   "version": "3.6.1"
  }
 },
 "nbformat": 4,
 "nbformat_minor": 2
}
